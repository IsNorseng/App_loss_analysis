{
 "cells": [
  {
   "cell_type": "markdown",
   "id": "e42baef5",
   "metadata": {},
   "source": [
    "                                      Описание проекта\n",
    "\n",
    "\n",
    "\n",
    "Вы — маркетинговый аналитик развлекательного приложения Procrastinate Pro+. Несмотря на огромные вложения в рекламу, последние несколько месяцев компания терпит убытки. Ваша задача — разобраться в причинах и помочь компании выйти в плюс. Есть данные о пользователях, привлечённых с 1 мая по 27 октября 2019 года:\n",
    "\n",
    "- лог сервера с данными об их посещениях,\n",
    "- выгрузка их покупок за этот период,\n",
    "- рекламные расходы.\n"
   ]
  },
  {
   "cell_type": "markdown",
   "id": "ce43197d",
   "metadata": {},
   "source": [
    "Шаг 1. Загрузите данные и подготовьте их к анализу\n",
    "Путь к файлам:\n",
    "\n",
    "- /datasets/visits_info.csv\n",
    "- /datasets/orders_info.csv\n",
    "- /datasets/costs_info.csv\n",
    "\n",
    "\n",
    "Шаг 2. Задайте функции для расчета и анализа LTV, ROI, удержания и конверсии.\n",
    "\n",
    "Шаг 3. Проведите исследовательский анализ данных.\n",
    "\n",
    "\n",
    "3.1. Создайте пользовательские профили. Определите минимальную и максимальную даты привлечения пользователей.\n",
    "\n",
    "\n",
    "3.2. Выясните, из каких стран пользователи приходят в приложение и на какую страну приходится больше всего платящих пользователей. Постройте таблицу, отражающую количество пользователей и долю платящих из каждой страны.\n",
    "\n",
    "3.3. Узнайте, какими устройствами пользуются клиенты и какие устройства предпочитают платящие пользователи. \n",
    "Постройте таблицу, отражающую количество пользователей и долю платящих для каждого устройства.\n",
    "\n",
    "3.4. Изучите рекламные источники привлечения и определите каналы, из которых пришло больше всего платящих пользователей. Постройте таблицу, отражающую количество пользователей и долю платящих для каждого канала привлечения. Напишите промежуточные выводы.\n",
    "\n",
    "Шаг 4. Маркетинг\n",
    "4.1. Посчитайте общую сумму расходов на маркетинг. Выясните, как траты распределены по источникам. \n",
    "Визуализируйте изменения метрик во времени.\n",
    "\n",
    "4.2. Узнайте, сколько в среднем стоило привлечение одного пользователя из каждого источника. \n",
    "Рассчитайте средний CAC на одного пользователя для всего проекта и для каждого источника трафика. Используйте профили пользователей. Напишите промежуточные выводы.\n",
    "\n",
    "Шаг 5. Оцените окупаемость рекламы\n",
    "Используя графики LTV, ROI и CAC, проанализируйте окупаемость рекламы. Считайте, что на календаре 1 ноября 2019 года, а в бизнес-плане заложено, что пользователи должны окупаться не позднее чем через две недели после привлечения. Необходимость включения в анализ органических пользователей определите самостоятельно.\n",
    "\n",
    "5.1. Проанализируйте общую окупаемость рекламы. Постройте графики LTV и ROI, а также графики динамики LTV, CAC и ROI.\n",
    "\n",
    "5.2. Проанализируйте окупаемость рекламы с разбивкой по рекламным каналам. Постройте графики LTV и ROI, а также графики динамики LTV, CAC и ROI.\n",
    "\n",
    "5.3. Проанализируйте окупаемость рекламы с разбивкой по странам. Постройте графики LTV и ROI, а также графики динамики LTV, CAC и ROI.\n",
    "\n",
    "Опишите обнаруженные проблемы и напишите промежуточные выводы. \n",
    "\n",
    "\n",
    "5.4. Постройте и изучите графики конверсии и удержания с разбивкой по устройствам, странам, рекламным каналам.\n",
    "\n",
    "Ответьте на такие вопросы:\n",
    "\n",
    "Окупается ли реклама в целом?\n",
    "Какие устройства, страны и каналы могут снижать окупаемость рекламы?\n",
    "Чем могут быть вызваны проблемы окупаемости?\n",
    "Опишите возможные причины обнаруженных проблем и промежуточные рекомендации для рекламного отдела.\n",
    "\n",
    "Шаг 6. Напишите выводы\n",
    "6.1. Выделите причины неэффективности привлечения пользователей.\n",
    "\n",
    "6.2. Сформулируйте рекомендации для отдела маркетинга."
   ]
  },
  {
   "cell_type": "markdown",
   "id": "05ad9449",
   "metadata": {},
   "source": [
    "Шаг 1. Загрузите данные и подготовьте их к анализу:"
   ]
  },
  {
   "cell_type": "code",
   "execution_count": null,
   "id": "a53ee92f",
   "metadata": {},
   "outputs": [],
   "source": [
    "import pandas as pd\n",
    "import numpy as np\n",
    "from datetime import date, datetime, timedelta\n",
    "from matplotlib import pyplot as plt\n",
    "import seaborn as sns\n",
    "import datetime\n",
    "import math\n",
    "import warnings\n",
    "warnings.filterwarnings('ignore')"
   ]
  },
  {
   "cell_type": "code",
   "execution_count": null,
   "id": "b8bffc3d",
   "metadata": {},
   "outputs": [],
   "source": [
    "try:\n",
    "    visit = pd.read_csv('visits_info_short.csv')\n",
    "    order = pd.read_csv('orders_info_short.csv')\n",
    "    cost = pd.read_csv('costs_info_short.csv')\n",
    "except:\n",
    "    visit = pd.read_csv('/datasets/visits_info_short.csv')\n",
    "    order = pd.read_csv('/datasets/orders_info_short.csv')\n",
    "    cost = pd.read_csv('/datasets/costs_info_short.csv')"
   ]
  },
  {
   "cell_type": "code",
   "execution_count": null,
   "id": "b72d35a9",
   "metadata": {},
   "outputs": [],
   "source": [
    "visit.head()"
   ]
  },
  {
   "cell_type": "code",
   "execution_count": null,
   "id": "18dd8214",
   "metadata": {},
   "outputs": [],
   "source": [
    "visit.info()"
   ]
  },
  {
   "cell_type": "code",
   "execution_count": null,
   "id": "653c2b72",
   "metadata": {},
   "outputs": [],
   "source": [
    "round((visit.isna().mean()*100),2)"
   ]
  },
  {
   "cell_type": "code",
   "execution_count": null,
   "id": "3365ee98",
   "metadata": {},
   "outputs": [],
   "source": [
    "\n",
    "visit.columns = ['user_id', 'region', 'device', 'channel', 'session_start', 'session_end']"
   ]
  },
  {
   "cell_type": "code",
   "execution_count": null,
   "id": "c2e815fb",
   "metadata": {},
   "outputs": [],
   "source": [
    "\n",
    "visit['region'].unique()"
   ]
  },
  {
   "cell_type": "code",
   "execution_count": null,
   "id": "95e9000f",
   "metadata": {},
   "outputs": [],
   "source": [
    "# преобразование данных о времени\n",
    "visit['session_start'] = pd.to_datetime(visit['session_start'])#, format=\"%d-%m-%Y %H:%M\")\n",
    "visit['session_end'] = pd.to_datetime(visit['session_end'])#, format=\"%d.%m.%Y %H:%M\")"
   ]
  },
  {
   "cell_type": "code",
   "execution_count": null,
   "id": "e43afab6",
   "metadata": {},
   "outputs": [],
   "source": [
    "print(visit.duplicated().sum())"
   ]
  },
  {
   "cell_type": "code",
   "execution_count": null,
   "id": "56982f63",
   "metadata": {},
   "outputs": [],
   "source": [
    "order.head()"
   ]
  },
  {
   "cell_type": "code",
   "execution_count": null,
   "id": "5d384445",
   "metadata": {},
   "outputs": [],
   "source": [
    "order.columns = ['user_id', 'event_dt', 'revenue']"
   ]
  },
  {
   "cell_type": "code",
   "execution_count": null,
   "id": "4c6c41cf",
   "metadata": {},
   "outputs": [],
   "source": [
    "order.info()"
   ]
  },
  {
   "cell_type": "code",
   "execution_count": null,
   "id": "2be8d449",
   "metadata": {},
   "outputs": [],
   "source": [
    "round((order.isna().mean()*100),2)"
   ]
  },
  {
   "cell_type": "code",
   "execution_count": null,
   "id": "aae4c64b",
   "metadata": {},
   "outputs": [],
   "source": [
    "order['event_dt'] = pd.to_datetime(order['event_dt'])"
   ]
  },
  {
   "cell_type": "code",
   "execution_count": null,
   "id": "55c9e8b2",
   "metadata": {},
   "outputs": [],
   "source": [
    "print(order.duplicated().sum())"
   ]
  },
  {
   "cell_type": "code",
   "execution_count": null,
   "id": "2262d438",
   "metadata": {},
   "outputs": [],
   "source": [
    "cost.head()"
   ]
  },
  {
   "cell_type": "code",
   "execution_count": null,
   "id": "0e976229",
   "metadata": {},
   "outputs": [],
   "source": [
    "cost.info()"
   ]
  },
  {
   "cell_type": "code",
   "execution_count": null,
   "id": "475ff7cb",
   "metadata": {},
   "outputs": [],
   "source": [
    "round((cost.isna().mean()*100),2)"
   ]
  },
  {
   "cell_type": "code",
   "execution_count": null,
   "id": "6f16ed1a",
   "metadata": {},
   "outputs": [],
   "source": [
    "cost.columns = ['dt', 'channel', 'costs']"
   ]
  },
  {
   "cell_type": "code",
   "execution_count": null,
   "id": "ea5aadf6",
   "metadata": {},
   "outputs": [],
   "source": [
    "cost['dt'] = pd.to_datetime(cost['dt'])"
   ]
  },
  {
   "cell_type": "code",
   "execution_count": null,
   "id": "425c9dbd",
   "metadata": {},
   "outputs": [],
   "source": [
    "print(cost.duplicated().sum())"
   ]
  },
  {
   "cell_type": "markdown",
   "id": "af610db5",
   "metadata": {},
   "source": [
    "Общий вывод:\n",
    "\n",
    "- Тип данных на соответствующий заменили\n",
    "- Дубликаты в таблицах отсутствуют"
   ]
  },
  {
   "cell_type": "markdown",
   "id": "dc31f727",
   "metadata": {},
   "source": [
    "Шаг 2. Задайте функции для расчета и анализа LTV, ROI, удержания и конверсии:"
   ]
  },
  {
   "cell_type": "code",
   "execution_count": 1,
   "id": "c997c55e",
   "metadata": {},
   "outputs": [],
   "source": [
    "import time\n",
    "from datetime import datetime\n",
    "from datetime import date, timedelta as td\n",
    "\n",
    "observation_date = datetime(2019, 11, 1).date()  # момент анализа \n",
    "horizon_days = 14  # горизонт анализа "
   ]
  },
  {
   "cell_type": "code",
   "execution_count": 2,
   "id": "5c613a8d",
   "metadata": {},
   "outputs": [],
   "source": [
    "# функция для расчёта удержания\n",
    "\n",
    "def get_retention(\n",
    "    profiles,\n",
    "    sessions,\n",
    "    observation_date,\n",
    "    horizon_days,\n",
    "    dimensions=[],\n",
    "    ignore_horizon=False,\n",
    "):\n",
    "\n",
    "    # добавляем столбец payer в передаваемый dimensions список\n",
    "    dimensions = ['payer'] + dimensions\n",
    "\n",
    "    # исключаем пользователей, не «доживших» до горизонта анализа\n",
    "    last_suitable_acquisition_date = observation_date\n",
    "    if not ignore_horizon:\n",
    "        last_suitable_acquisition_date = observation_date - timedelta(\n",
    "            days=horizon_days - 1\n",
    "        )\n",
    "    result_raw = profiles.query('dt <= @last_suitable_acquisition_date')\n",
    "\n",
    "    # собираем «сырые» данные для расчёта удержания\n",
    "    result_raw = result_raw.merge(\n",
    "        sessions[['user_id', 'session_start']], on='user_id', how='left'\n",
    "    )\n",
    "    result_raw['lifetime'] = (\n",
    "        result_raw['session_start'] - result_raw['first_ts']\n",
    "    ).dt.days"
   ]
  },
  {
   "cell_type": "code",
   "execution_count": 3,
   "id": "6c55497e",
   "metadata": {},
   "outputs": [],
   "source": [
    "# функция для расчёта конверсии\n",
    "\n",
    "def get_conversion(\n",
    "    profiles,\n",
    "    purchases,\n",
    "    observation_date,\n",
    "    horizon_days,\n",
    "    dimensions=[],\n",
    "    ignore_horizon=False,\n",
    "):\n",
    "\n",
    "    # исключаем пользователей, не «доживших» до горизонта анализа\n",
    "    last_suitable_acquisition_date = observation_date\n",
    "    if not ignore_horizon:\n",
    "        last_suitable_acquisition_date = observation_date - timedelta(\n",
    "            days=horizon_days - 1\n",
    "        )\n",
    "    result_raw = profiles.query('dt <= @last_suitable_acquisition_date')\n",
    "\n",
    "    # определяем дату и время первой покупки для каждого пользователя\n",
    "    first_purchases = (\n",
    "        purchases.sort_values(by=['user_id', 'event_dt'])\n",
    "        .groupby('user_id')\n",
    "        .agg({'event_dt': 'first'})\n",
    "        .reset_index()\n",
    "    )\n",
    "\n",
    "    # собираем «сырые» данные для расчёта удержания\n",
    "    result_raw = result_raw.merge(\n",
    "        first_purchases[['user_id', 'event_dt']], on='user_id', how='left'\n",
    "    )\n",
    "\n",
    "    \n",
    "    result_raw['lifetime'] = (\n",
    "        result_raw['event_dt'] - result_raw['first_ts']\n",
    "    ).dt.days\n",
    "\n",
    "    \n",
    "    if len(dimensions) == 0:\n",
    "        result_raw['cohort'] = 'All users' \n",
    "        dimensions = dimensions + ['cohort']\n",
    "\n",
    "    # функция для группировки таблицы по желаемым признакам\n",
    "    def group_by_dimensions(df, dims, horizon_days):\n",
    "        result = df.pivot_table(\n",
    "            index=dims, columns='lifetime', values='user_id', aggfunc='nunique'\n",
    "        )\n",
    "        result = result.fillna(0).cumsum(axis = 1)\n",
    "        cohort_sizes = (\n",
    "            df.groupby(dims)\n",
    "            .agg({'user_id': 'nunique'})\n",
    "            .rename(columns={'user_id': 'cohort_size'})\n",
    "        )\n",
    "        result = cohort_sizes.merge(result, on=dims, how='left').fillna(0)\n",
    "        # делим каждую «ячейку» в строке на размер когорты\n",
    "        # и получаем conversion rate\n",
    "        result = result.div(result['cohort_size'], axis=0)\n",
    "        result = result[['cohort_size'] + list(range(horizon_days))]\n",
    "        result['cohort_size'] = cohort_sizes\n",
    "        return result\n",
    "\n",
    "    # получаем таблицу конверсии\n",
    "    result_grouped = group_by_dimensions(result_raw, dimensions, horizon_days)\n",
    "\n",
    "    \n",
    "    if 'cohort' in dimensions: \n",
    "        dimensions = []\n",
    "\n",
    "    # получаем таблицу динамики конверсии\n",
    "    result_in_time = group_by_dimensions(\n",
    "        result_raw, dimensions + ['dt'], horizon_days\n",
    "    )\n",
    "\n",
    "    # возвращаем обе таблицы и сырые данные\n",
    "    return result_raw, result_grouped, result_in_time "
   ]
  },
  {
   "cell_type": "code",
   "execution_count": 4,
   "id": "8f24fc15",
   "metadata": {},
   "outputs": [],
   "source": [
    "def get_ltv(\n",
    "    profiles,  # Шаг 1. Получить профили и данные о покупках\n",
    "    purchases,\n",
    "    observation_date,\n",
    "    horizon_days,\n",
    "    dimensions=[],\n",
    "    ignore_horizon=False,\n",
    "):\n",
    "\n",
    "    # исключаем пользователей, не «доживших» до горизонта анализа\n",
    "    last_suitable_acquisition_date = observation_date\n",
    "    if not ignore_horizon:\n",
    "        last_suitable_acquisition_date = observation_date - timedelta(\n",
    "            days=horizon_days - 1\n",
    "        )\n",
    "    result_raw = profiles.query('dt <= @last_suitable_acquisition_date')\n",
    "\n",
    "    # Шаг 2. Добавить данные о покупках в профили\n",
    "\n",
    "    result_raw = result_raw.merge(\n",
    "        # добавляем в профили время совершения покупок и выручку\n",
    "        purchases[['user_id', 'event_dt', 'revenue']],\n",
    "        on='user_id',\n",
    "        how='left',\n",
    "    )\n",
    "\n",
    "    # Шаг 3. Рассчитать лайфтайм пользователя для каждой покупки\n",
    "    result_raw['lifetime'] = (\n",
    "        result_raw['event_dt'] - result_raw['first_ts']\n",
    "    ).dt.days\n",
    "\n",
    "    # группируем по cohort, если в dimensions ничего нет\n",
    "    if len(dimensions) == 0:\n",
    "        result_raw['cohort'] = 'All users'\n",
    "        dimensions = dimensions + ['cohort']\n",
    "\n",
    "    # функция для группировки таблицы по желаемым признакам\n",
    "    def group_by_dimensions(df, dims, horizon_days):\n",
    "\n",
    "        # Шаг 3. Построить таблицу выручки\n",
    "        # строим «треугольную» таблицу\n",
    "        result = df.pivot_table(\n",
    "            index=dims,\n",
    "            columns='lifetime',\n",
    "            values='revenue',  # в ячейках — выручка за каждый лайфтайм\n",
    "            aggfunc='sum',\n",
    "        )\n",
    "\n",
    "        # Шаг 4. Посчитать сумму выручки с накоплением\n",
    "        result = result.fillna(0).cumsum(axis=1)\n",
    "\n",
    "        # Шаг 5. Вычислить размеры когорт\n",
    "        cohort_sizes = (\n",
    "            df.groupby(dims)\n",
    "            .agg({'user_id': 'nunique'})\n",
    "            .rename(columns={'user_id': 'cohort_size'})\n",
    "        )\n",
    "\n",
    "        # Шаг 6. Объединить размеры когорт и таблицу выручки\n",
    "        result = cohort_sizes.merge(result, on=dims, how='left').fillna(0)\n",
    "\n",
    "        # Шаг 7. Посчитать LTV\n",
    "        # делим каждую «ячейку» в строке на размер когорты\n",
    "        result = result.div(result['cohort_size'], axis=0)\n",
    "        # исключаем все лайфтаймы, превышающие горизонт анализа\n",
    "        result = result[['cohort_size'] + list(range(horizon_days))]\n",
    "        # восстанавливаем размеры когорт\n",
    "        result['cohort_size'] = cohort_sizes\n",
    "        # сохраняем в датафрейм данные пользователей и значения CAC, \n",
    "        # добавив параметры из dimensions\n",
    "        cac = df[['user_id', 'acquisition_cost'] + dims].drop_duplicates()\n",
    "\n",
    "        # считаем средний CAC по параметрам из dimensions\n",
    "        cac = (\n",
    "            cac.groupby(dims)\n",
    "            .agg({'acquisition_cost': 'mean'})\n",
    "            .rename(columns={'acquisition_cost': 'cac'})\n",
    "        )\n",
    "\n",
    "        # считаем ROI: делим LTV на CAC\n",
    "        roi = result.div(cac['cac'], axis=0)\n",
    "\n",
    "        # удаляем строки с бесконечным ROI\n",
    "        roi = roi[~roi['cohort_size'].isin([np.inf])]\n",
    "\n",
    "        # восстанавливаем размеры когорт в таблице ROI\n",
    "        roi['cohort_size'] = cohort_sizes\n",
    "\n",
    "        # добавляем CAC в таблицу ROI\n",
    "        roi['cac'] = cac['cac']\n",
    "\n",
    "        # в финальной таблице оставляем размеры когорт, CAC\n",
    "        # и ROI в лайфтаймы, не превышающие горизонт анализа\n",
    "        roi = roi[['cohort_size', 'cac'] + list(range(horizon_days))]\n",
    "\n",
    "        # возвращаем таблицы LTV и ROI\n",
    "        return result, roi\n",
    "\n",
    "    # получаем таблицы LTV и ROI\n",
    "    result_grouped, roi_grouped = group_by_dimensions(\n",
    "        result_raw, dimensions, horizon_days\n",
    "    )\n",
    "\n",
    "    # для таблиц динамики убираем 'cohort' из dimensions\n",
    "    if 'cohort' in dimensions:\n",
    "        dimensions = []\n",
    "\n",
    "    # получаем таблицы динамики LTV и ROI\n",
    "    result_in_time, roi_in_time = group_by_dimensions(\n",
    "        result_raw, dimensions + ['dt'], horizon_days\n",
    "    )\n",
    "\n",
    "    return (\n",
    "        result_raw,  # сырые данные\n",
    "        result_grouped,  # таблица LTV\n",
    "        result_in_time,  # таблица динамики LTV\n",
    "        roi_grouped,  # таблица ROI\n",
    "        roi_in_time,  # таблица динамики ROI\n",
    "    )"
   ]
  },
  {
   "cell_type": "code",
   "execution_count": 5,
   "id": "7206feba",
   "metadata": {},
   "outputs": [],
   "source": [
    "def get_retention(\n",
    "    profiles,\n",
    "    sessions,\n",
    "    observation_date,\n",
    "    horizon_days,\n",
    "    dimensions=[],\n",
    "    ignore_horizon=False,\n",
    "):\n",
    "\n",
    "    # добавляем столбец payer в передаваемый dimensions список\n",
    "    dimensions = ['payer'] + dimensions\n",
    "\n",
    "    # исключаем пользователей, не «доживших» до горизонта анализа\n",
    "    last_suitable_acquisition_date = observation_date\n",
    "    if not ignore_horizon:\n",
    "        last_suitable_acquisition_date = observation_date - timedelta(\n",
    "            days=horizon_days - 1\n",
    "        )\n",
    "    result_raw = profiles.query('dt <= @last_suitable_acquisition_date')\n",
    "\n",
    "    # собираем «сырые» данные для расчёта удержания\n",
    "    result_raw = result_raw.merge(\n",
    "        sessions[['user_id', 'session_start']], on='user_id', how='left'\n",
    "    )\n",
    "    result_raw['lifetime'] = (\n",
    "        result_raw['session_start'] - result_raw['first_ts']\n",
    "    ).dt.days\n",
    "\n",
    "    # функция для группировки таблицы по желаемым признакам\n",
    "    def group_by_dimensions(df, dims, horizon_days):\n",
    "        result = df.pivot_table(\n",
    "            index=dims, columns='lifetime', values='user_id', aggfunc='nunique'\n",
    "        )\n",
    "        cohort_sizes = (\n",
    "            df.groupby(dims)\n",
    "            .agg({'user_id': 'nunique'})\n",
    "            .rename(columns={'user_id': 'cohort_size'})\n",
    "        )\n",
    "        result = cohort_sizes.merge(result, on=dims, how='left').fillna(0)\n",
    "        result = result.div(result['cohort_size'], axis=0)\n",
    "        result = result[['cohort_size'] + list(range(horizon_days))]\n",
    "        result['cohort_size'] = cohort_sizes\n",
    "        return result\n",
    "\n",
    "    # получаем таблицу удержания\n",
    "    result_grouped = group_by_dimensions(result_raw, dimensions, horizon_days)\n",
    "\n",
    "    # получаем таблицу динамики удержания\n",
    "    result_in_time = group_by_dimensions(\n",
    "        result_raw, dimensions + ['dt'], horizon_days\n",
    "    )\n",
    "\n",
    "    # возвращаем обе таблицы и сырые данные\n",
    "    return result_raw, result_grouped, result_in_time "
   ]
  },
  {
   "cell_type": "markdown",
   "id": "13301d03",
   "metadata": {},
   "source": [
    "Общий вывод:\n",
    "Функции LTV, ROI, удержания(retention), конверсии(conversion) заданы."
   ]
  },
  {
   "cell_type": "markdown",
   "id": "0d348cbe",
   "metadata": {},
   "source": [
    "ШАГ 3\n",
    "Создадим пользовательские профили. Определим минимальную и максимальную даты привлечения пользователей:"
   ]
  },
  {
   "cell_type": "code",
   "execution_count": 6,
   "id": "5b6c1262",
   "metadata": {},
   "outputs": [],
   "source": [
    "# функция для создания пользовательских профилей\n",
    "\n",
    "def get_profiles(sessions, orders, ad_costs):\n",
    "\n",
    "    # находим параметры первых посещений\n",
    "    profiles = (\n",
    "        sessions.sort_values(by=['user_id', 'session_start'])\n",
    "        .groupby('user_id')\n",
    "        .agg(\n",
    "            {\n",
    "                'session_start': 'first',\n",
    "                'channel': 'first',\n",
    "                'device': 'first',\n",
    "                'region': 'first',\n",
    "            }\n",
    "        )\n",
    "        .rename(columns={'session_start': 'first_ts'})\n",
    "        .reset_index()\n",
    "    )\n",
    "\n",
    "    # для когортного анализа определяем дату первого посещения\n",
    "    # и первый день месяца, в который это посещение произошло\n",
    "    profiles['dt'] = profiles['first_ts'].dt.date\n",
    "    profiles['dt'] = pd.to_datetime(profiles['dt'], format=\"%Y-%m-%d\")\n",
    "    profiles['month'] = profiles['first_ts'].astype('datetime64[M]')\n",
    "\n",
    "    # добавляем признак платящих пользователей\n",
    "    profiles['payer'] = profiles['user_id'].isin(orders['user_id'].unique())\n",
    "\n",
    "\n",
    "    # считаем количество уникальных пользователей\n",
    "    # с одинаковыми источником и датой привлечения\n",
    "    new_users = (\n",
    "        profiles.groupby(['dt', 'channel'])\n",
    "        .agg({'user_id': 'nunique'})\n",
    "        .rename(columns={'user_id': 'unique_users'})\n",
    "        .reset_index()\n",
    "    )\n",
    "\n",
    "    # объединяем траты на рекламу и число привлечённых пользователей\n",
    "    ad_costs = ad_costs.merge(new_users, on=['dt', 'channel'], how='left')\n",
    "\n",
    "    # делим рекламные расходы на число привлечённых пользователей\n",
    "    # результаты сохраним в столбец acquisition_cost (CAC)\n",
    "    ad_costs['acquisition_cost'] = ad_costs['costs'] / ad_costs['unique_users']\n",
    "\n",
    "    # добавляем стоимость привлечения в профили\n",
    "    profiles = profiles.merge(\n",
    "        ad_costs[['dt', 'channel', 'acquisition_cost']],\n",
    "        on=['dt', 'channel'],\n",
    "        how='left',\n",
    "    )\n",
    "\n",
    "    # стоимость привлечения органических пользователей равна нулю\n",
    "    profiles['acquisition_cost'] = profiles['acquisition_cost'].fillna(0)\n",
    "\n",
    "    return profiles\n",
    " "
   ]
  },
  {
   "cell_type": "code",
   "execution_count": 7,
   "id": "88aebf66",
   "metadata": {},
   "outputs": [
    {
     "ename": "NameError",
     "evalue": "name 'visit' is not defined",
     "output_type": "error",
     "traceback": [
      "\u001b[1;31m---------------------------------------------------------------------------\u001b[0m",
      "\u001b[1;31mNameError\u001b[0m                                 Traceback (most recent call last)",
      "Cell \u001b[1;32mIn[7], line 1\u001b[0m\n\u001b[1;32m----> 1\u001b[0m profiles \u001b[38;5;241m=\u001b[39m get_profiles(visit, order, cost)\n",
      "\u001b[1;31mNameError\u001b[0m: name 'visit' is not defined"
     ]
    }
   ],
   "source": [
    "profiles = get_profiles(visit, order, cost)\n",
    "#profiles"
   ]
  },
  {
   "cell_type": "code",
   "execution_count": 8,
   "id": "1f4ca4ab",
   "metadata": {},
   "outputs": [
    {
     "ename": "NameError",
     "evalue": "name 'profiles' is not defined",
     "output_type": "error",
     "traceback": [
      "\u001b[1;31m---------------------------------------------------------------------------\u001b[0m",
      "\u001b[1;31mNameError\u001b[0m                                 Traceback (most recent call last)",
      "Cell \u001b[1;32mIn[8], line 1\u001b[0m\n\u001b[1;32m----> 1\u001b[0m profiles[\u001b[38;5;124m'\u001b[39m\u001b[38;5;124mdt\u001b[39m\u001b[38;5;124m'\u001b[39m] \u001b[38;5;241m=\u001b[39m profiles[\u001b[38;5;124m'\u001b[39m\u001b[38;5;124mfirst_ts\u001b[39m\u001b[38;5;124m'\u001b[39m]\u001b[38;5;241m.\u001b[39mdt\u001b[38;5;241m.\u001b[39mdate\n\u001b[0;32m      2\u001b[0m profiles[\u001b[38;5;124m'\u001b[39m\u001b[38;5;124mdt\u001b[39m\u001b[38;5;124m'\u001b[39m] \u001b[38;5;241m=\u001b[39m pd\u001b[38;5;241m.\u001b[39mto_datetime(profiles[\u001b[38;5;124m'\u001b[39m\u001b[38;5;124mdt\u001b[39m\u001b[38;5;124m'\u001b[39m], \u001b[38;5;28mformat\u001b[39m\u001b[38;5;241m=\u001b[39m\u001b[38;5;124m\"\u001b[39m\u001b[38;5;124m%\u001b[39m\u001b[38;5;124mY-\u001b[39m\u001b[38;5;124m%\u001b[39m\u001b[38;5;124mm-\u001b[39m\u001b[38;5;132;01m%d\u001b[39;00m\u001b[38;5;124m\"\u001b[39m)\n\u001b[0;32m      3\u001b[0m profiles[\u001b[38;5;124m'\u001b[39m\u001b[38;5;124mmonth\u001b[39m\u001b[38;5;124m'\u001b[39m] \u001b[38;5;241m=\u001b[39m profiles[\u001b[38;5;124m'\u001b[39m\u001b[38;5;124mfirst_ts\u001b[39m\u001b[38;5;124m'\u001b[39m]\u001b[38;5;241m.\u001b[39mastype(\u001b[38;5;124m'\u001b[39m\u001b[38;5;124mdatetime64[M]\u001b[39m\u001b[38;5;124m'\u001b[39m)\n",
      "\u001b[1;31mNameError\u001b[0m: name 'profiles' is not defined"
     ]
    }
   ],
   "source": [
    "profiles['dt'] = profiles['first_ts'].dt.date\n",
    "profiles['dt'] = pd.to_datetime(profiles['dt'], format=\"%Y-%m-%d\")\n",
    "profiles['month'] = profiles['first_ts'].astype('datetime64[M]')"
   ]
  },
  {
   "cell_type": "code",
   "execution_count": 9,
   "id": "822098d8",
   "metadata": {},
   "outputs": [
    {
     "ename": "NameError",
     "evalue": "name 'profiles' is not defined",
     "output_type": "error",
     "traceback": [
      "\u001b[1;31m---------------------------------------------------------------------------\u001b[0m",
      "\u001b[1;31mNameError\u001b[0m                                 Traceback (most recent call last)",
      "Cell \u001b[1;32mIn[9], line 1\u001b[0m\n\u001b[1;32m----> 1\u001b[0m min_analysis_date \u001b[38;5;241m=\u001b[39m profiles[\u001b[38;5;124m'\u001b[39m\u001b[38;5;124mdt\u001b[39m\u001b[38;5;124m'\u001b[39m]\u001b[38;5;241m.\u001b[39mmin()\n\u001b[0;32m      2\u001b[0m observation_date \u001b[38;5;241m=\u001b[39m profiles[\u001b[38;5;124m'\u001b[39m\u001b[38;5;124mdt\u001b[39m\u001b[38;5;124m'\u001b[39m]\u001b[38;5;241m.\u001b[39mmax()\n",
      "\u001b[1;31mNameError\u001b[0m: name 'profiles' is not defined"
     ]
    }
   ],
   "source": [
    "min_analysis_date = profiles['dt'].min()\n",
    "observation_date = profiles['dt'].max() "
   ]
  },
  {
   "cell_type": "code",
   "execution_count": 10,
   "id": "b5ad5b66",
   "metadata": {},
   "outputs": [
    {
     "ename": "NameError",
     "evalue": "name 'min_analysis_date' is not defined",
     "output_type": "error",
     "traceback": [
      "\u001b[1;31m---------------------------------------------------------------------------\u001b[0m",
      "\u001b[1;31mNameError\u001b[0m                                 Traceback (most recent call last)",
      "Cell \u001b[1;32mIn[10], line 1\u001b[0m\n\u001b[1;32m----> 1\u001b[0m min_analysis_date\n",
      "\u001b[1;31mNameError\u001b[0m: name 'min_analysis_date' is not defined"
     ]
    }
   ],
   "source": [
    "min_analysis_date"
   ]
  },
  {
   "cell_type": "code",
   "execution_count": null,
   "id": "8586b5be",
   "metadata": {},
   "outputs": [],
   "source": [
    "observation_date"
   ]
  },
  {
   "cell_type": "markdown",
   "id": "fd4b07e6",
   "metadata": {},
   "source": [
    "Минимальная дата привлечения пользователей - 1 мая 2019 года.\n",
    "\n",
    "Максимальная дата привлечения пользователей - 27 октября 2019 года."
   ]
  },
  {
   "cell_type": "markdown",
   "id": "678ca201",
   "metadata": {},
   "source": [
    "Шаг 3. Проведите исследовательский анализ данных\n",
    "Выясните, из каких стран пользователи приходят в приложение и на какую страну приходится больше всего платящих пользователей. Постройте таблицу, отражающую количество пользователей и долю платящих из каждой страны:"
   ]
  },
  {
   "cell_type": "code",
   "execution_count": 11,
   "id": "83ba73f5",
   "metadata": {},
   "outputs": [
    {
     "ename": "NameError",
     "evalue": "name 'visit' is not defined",
     "output_type": "error",
     "traceback": [
      "\u001b[1;31m---------------------------------------------------------------------------\u001b[0m",
      "\u001b[1;31mNameError\u001b[0m                                 Traceback (most recent call last)",
      "Cell \u001b[1;32mIn[11], line 1\u001b[0m\n\u001b[1;32m----> 1\u001b[0m visit\u001b[38;5;241m.\u001b[39mhead(\u001b[38;5;241m5\u001b[39m)\n",
      "\u001b[1;31mNameError\u001b[0m: name 'visit' is not defined"
     ]
    }
   ],
   "source": [
    "visit.head(5)"
   ]
  },
  {
   "cell_type": "code",
   "execution_count": 12,
   "id": "227a86a3",
   "metadata": {},
   "outputs": [
    {
     "ename": "NameError",
     "evalue": "name 'pd' is not defined",
     "output_type": "error",
     "traceback": [
      "\u001b[1;31m---------------------------------------------------------------------------\u001b[0m",
      "\u001b[1;31mNameError\u001b[0m                                 Traceback (most recent call last)",
      "Cell \u001b[1;32mIn[12], line 1\u001b[0m\n\u001b[1;32m----> 1\u001b[0m region_payer_share \u001b[38;5;241m=\u001b[39m pd\u001b[38;5;241m.\u001b[39mDataFrame()\n\u001b[0;32m      2\u001b[0m region_payer_share[\u001b[38;5;124m'\u001b[39m\u001b[38;5;124musers_cnt\u001b[39m\u001b[38;5;124m'\u001b[39m] \u001b[38;5;241m=\u001b[39m profiles\u001b[38;5;241m.\u001b[39mgroupby(\u001b[38;5;124m'\u001b[39m\u001b[38;5;124mregion\u001b[39m\u001b[38;5;124m'\u001b[39m)[\u001b[38;5;124m'\u001b[39m\u001b[38;5;124muser_id\u001b[39m\u001b[38;5;124m'\u001b[39m]\u001b[38;5;241m.\u001b[39mcount()\n\u001b[0;32m      3\u001b[0m region_payer_share[\u001b[38;5;124m'\u001b[39m\u001b[38;5;124mpayer_users_cnt\u001b[39m\u001b[38;5;124m'\u001b[39m] \u001b[38;5;241m=\u001b[39m profiles\u001b[38;5;241m.\u001b[39mquery(\u001b[38;5;124m'\u001b[39m\u001b[38;5;124mpayer == True\u001b[39m\u001b[38;5;124m'\u001b[39m)\u001b[38;5;241m.\u001b[39mgroupby(\u001b[38;5;124m'\u001b[39m\u001b[38;5;124mregion\u001b[39m\u001b[38;5;124m'\u001b[39m)[\u001b[38;5;124m'\u001b[39m\u001b[38;5;124muser_id\u001b[39m\u001b[38;5;124m'\u001b[39m]\u001b[38;5;241m.\u001b[39mcount()\n",
      "\u001b[1;31mNameError\u001b[0m: name 'pd' is not defined"
     ]
    }
   ],
   "source": [
    "region_payer_share = pd.DataFrame()\n",
    "region_payer_share['users_cnt'] = profiles.groupby('region')['user_id'].count()\n",
    "region_payer_share['payer_users_cnt'] = profiles.query('payer == True').groupby('region')['user_id'].count()\n",
    "region_payer_share['share'] = 100*(region_payer_share['payer_users_cnt'] / region_payer_share['users_cnt'])\n",
    "region_payer_share.sort_values(by='share', ascending=False).style.format({'share': '{:.1f}%'})"
   ]
  },
  {
   "cell_type": "markdown",
   "id": "9dc3f9ad",
   "metadata": {},
   "source": [
    "Больше всего платящих пользователей приходится на USA.\n",
    "\n"
   ]
  },
  {
   "cell_type": "markdown",
   "id": "22981ef5",
   "metadata": {},
   "source": [
    "Узнайте, какими устройствами пользуются клиенты и какие устройства предпочитают платящие пользователи. Постройте таблицу, отражающую количество пользователей и долю платящих для каждого устройства."
   ]
  },
  {
   "cell_type": "code",
   "execution_count": null,
   "id": "1583987b",
   "metadata": {},
   "outputs": [],
   "source": [
    "device_payer_share = pd.DataFrame()\n",
    "device_payer_share['users_cnt'] = profiles.groupby('device')['user_id'].count()\n",
    "device_payer_share['payer_users_cnt'] = profiles.query('payer == True').groupby('device')['user_id'].count()\n",
    "device_payer_share['share'] = 100*(device_payer_share['payer_users_cnt'] / device_payer_share['users_cnt'])\n",
    "device_payer_share.sort_values(by='share', ascending=False).style.format({'share': '{:.1f}%'})"
   ]
  },
  {
   "cell_type": "markdown",
   "id": "3d14fc16",
   "metadata": {},
   "source": [
    "Большинство платящих пользователей предпочитают IPhone(6.2%) и Mac(6.4%). Также клиенты пользуются PC и Android"
   ]
  },
  {
   "cell_type": "code",
   "execution_count": null,
   "id": "295a5138",
   "metadata": {},
   "outputs": [],
   "source": [
    "profiles['channel'].value_counts()"
   ]
  },
  {
   "cell_type": "markdown",
   "id": "b8216158",
   "metadata": {},
   "source": [
    "Изучите рекламные источники привлечения и определите каналы, из которых пришло больше всего платящих пользователей. Постройте таблицу, отражающую количество пользователей и долю платящих для каждого канала привлечения."
   ]
  },
  {
   "cell_type": "code",
   "execution_count": null,
   "id": "988e02eb",
   "metadata": {},
   "outputs": [],
   "source": [
    "channel_payer_share = pd.DataFrame()\n",
    "channel_payer_share['users_cnt'] = profiles.groupby('channel')['user_id'].count()\n",
    "channel_payer_share['payer_users_cnt'] = profiles.query('payer == True').groupby('channel')['user_id'].count()\n",
    "channel_payer_share['share'] = 100*(channel_payer_share['payer_users_cnt'] / channel_payer_share['users_cnt']) \n",
    "channel_payer_share.sort_values(by='share', ascending=False).style.format({'share': '{:.1f}%'})"
   ]
  },
  {
   "cell_type": "markdown",
   "id": "5150a80a",
   "metadata": {},
   "source": [
    "Больше всего платящих пользователей пришло из каналов: FaceBoom, TipTop, AdNonSense, lambdaMediaAds"
   ]
  },
  {
   "cell_type": "markdown",
   "id": "611be3f0",
   "metadata": {},
   "source": [
    "Шаг 4. Маркетинг\n",
    "4.1. Посчитайте общую сумму расходов на маркетинг. Выясните, как траты распределены по источникам. Визуализируйте изменения метрик во времени."
   ]
  },
  {
   "cell_type": "code",
   "execution_count": null,
   "id": "c6340db7",
   "metadata": {},
   "outputs": [],
   "source": [
    "cost.head()"
   ]
  },
  {
   "cell_type": "code",
   "execution_count": null,
   "id": "3df46934",
   "metadata": {},
   "outputs": [],
   "source": [
    "channel_costs_report = pd.DataFrame()\n",
    "channel_costs_report['costs'] = cost.groupby('channel')['costs'].sum()\n",
    "channel_costs_report.sort_values(by='costs', ascending=False)#.style.format({'share': '{:.0f}%', 'payer_share': '{:.2f"
   ]
  },
  {
   "cell_type": "code",
   "execution_count": null,
   "id": "776b6084",
   "metadata": {},
   "outputs": [],
   "source": [
    "cost['costs'].sum().round()"
   ]
  },
  {
   "cell_type": "markdown",
   "id": "0315512a",
   "metadata": {},
   "source": [
    "Общая сумма расходов на маркетинг: 105497\n",
    "\n",
    "Больше всего было потрачено на маркетинг в каналах TipTop и FaceBoom. На них приходится больше 80% всех затрат."
   ]
  },
  {
   "cell_type": "markdown",
   "id": "dfb5d251",
   "metadata": {},
   "source": [
    "Визуализируем изменения метрик во времени:"
   ]
  },
  {
   "cell_type": "code",
   "execution_count": null,
   "id": "784699f0",
   "metadata": {},
   "outputs": [],
   "source": [
    "filtered_data = cost.pivot_table(\n",
    "        index='dt', columns='channel', values='costs', aggfunc='sum'\n",
    "    )\n",
    "filtered_data.plot(                                             \n",
    "           figsize=(12, 10),\n",
    "           grid=True,)\n",
    "\n",
    "plt.title('График изменения затрат в разбивке по каналам')\n",
    "plt.xlabel('Дата')\n",
    "plt.ylabel('Затраты')\n",
    "plt.show()"
   ]
  },
  {
   "cell_type": "markdown",
   "id": "f9ebda65",
   "metadata": {},
   "source": [
    "Можно сделать вывод, что затраты на маркетинг со временем возрастали только на двух каналах: TipTop и FaceBoom"
   ]
  },
  {
   "cell_type": "markdown",
   "id": "fbdae043",
   "metadata": {},
   "source": [
    "4.2. Узнайте, сколько в среднем стоило привлечение одного пользователя из каждого источника. Рассчитайте средний CAC на одного пользователя для всего проекта и для каждого источника трафика. Используйте профили пользователей."
   ]
  },
  {
   "cell_type": "code",
   "execution_count": null,
   "id": "a02317ed",
   "metadata": {},
   "outputs": [],
   "source": [
    "#Посмотрим на CAC для каждого источника трафика.\n",
    "\n",
    "cac_by_channel = pd.DataFrame()\n",
    "# уберём органических пользователей:\n",
    "profiles = profiles.query('channel != \"organic\"')\n",
    "cac_by_channel['acquisition_cost_mean'] = profiles.groupby('channel')['acquisition_cost'].mean()\n",
    "cac_by_channel.sort_values(by='acquisition_cost_mean', ascending=False).style.format({'acquisition_cost_mean': '{:.2f}'})"
   ]
  },
  {
   "cell_type": "code",
   "execution_count": null,
   "id": "e6556b38",
   "metadata": {},
   "outputs": [],
   "source": [
    "profiles['acquisition_cost'].mean()"
   ]
  },
  {
   "cell_type": "code",
   "execution_count": null,
   "id": "6c4f25c9",
   "metadata": {},
   "outputs": [],
   "source": [
    "CAC_general = profiles.query('channel != \"TipTop\"')\n",
    "CAC_general['acquisition_cost'].mean()"
   ]
  },
  {
   "cell_type": "markdown",
   "id": "7cea972d",
   "metadata": {},
   "source": [
    "Средний CAC для всего проекта составляет - 1.13. Но средний CAC без канала TipTop составляет - 0.69\n",
    "\n",
    "Самыми дорогими трафиками вышли TipTop (2.8), FaceBoom (1.11), AdNonSense(1.01)."
   ]
  },
  {
   "cell_type": "markdown",
   "id": "46c40962",
   "metadata": {},
   "source": [
    "Напишите промежуточные выводы.\n",
    "Рекомендации для отдела маркетинга:\n",
    "\n",
    "- Сократить расходы на трафик TipTop\n",
    "- Обратить внимание на каналы LeapBob, MediaTornado, YRabbit, OppleCreativeMedia. Привлечение пользователей с этих каналов обходится дешевле всего."
   ]
  },
  {
   "cell_type": "markdown",
   "id": "9db5a345",
   "metadata": {},
   "source": [
    "Шаг 5. Оцените окупаемость рекламы\n",
    "5.1. Проанализируйте общую окупаемость рекламы. Постройте графики LTV и ROI, а также графики динамики LTV, CAC и ROI."
   ]
  },
  {
   "cell_type": "code",
   "execution_count": null,
   "id": "236473cd",
   "metadata": {},
   "outputs": [],
   "source": [
    "# функция для сглаживания фрейма\n",
    "\n",
    "def filter_data(df, window):\n",
    "    # для каждого столбца применяем скользящее среднее\n",
    "    for column in df.columns.values:\n",
    "        df[column] = df[column].rolling(window).mean() \n",
    "    return df "
   ]
  },
  {
   "cell_type": "code",
   "execution_count": null,
   "id": "9416b710",
   "metadata": {},
   "outputs": [],
   "source": [
    "# функция для визуализации LTV и ROI\n",
    "\n",
    "def plot_ltv_roi(ltv, ltv_history, roi, roi_history, horizon, window=7):\n",
    "\n",
    "    # задаём сетку отрисовки графиков\n",
    "    plt.figure(figsize=(20, 10))\n",
    "\n",
    "    # из таблицы ltv исключаем размеры когорт\n",
    "    ltv = ltv.drop(columns=['cohort_size'])\n",
    "    # в таблице динамики ltv оставляем только нужный лайфтайм\n",
    "    ltv_history = ltv_history.drop(columns=['cohort_size'])[[horizon - 1]]\n",
    "\n",
    "    # стоимость привлечения запишем в отдельный фрейм\n",
    "    cac_history = roi_history[['cac']]\n",
    "\n",
    "    # из таблицы roi исключаем размеры когорт и cac\n",
    "    roi = roi.drop(columns=['cohort_size', 'cac'])\n",
    "    # в таблице динамики roi оставляем только нужный лайфтайм\n",
    "    roi_history = roi_history.drop(columns=['cohort_size', 'cac'])[\n",
    "        [horizon - 1]\n",
    "    ]\n",
    "\n",
    "    # кривые ltv\n",
    "    ax1 = plt.subplot(2, 3, 1)\n",
    "    ltv.T.plot(grid=True, ax=ax1)\n",
    "    plt.legend()\n",
    "    plt.xlabel('Лайфтайм')\n",
    "    plt.title('LTV')\n",
    "\n",
    "    # динамика ltv\n",
    "    ax2 = plt.subplot(2, 3, 2, sharey=ax1)\n",
    "    # столбцами сводной таблицы станут все столбцы индекса, кроме даты\n",
    "    columns = [name for name in ltv_history.index.names if name not in ['dt']]\n",
    "    filtered_data = ltv_history.pivot_table(\n",
    "        index='dt', columns=columns, values=horizon - 1, aggfunc='mean'\n",
    "    )\n",
    "    filter_data(filtered_data, window).plot(grid=True, ax=ax2)\n",
    "    plt.xlabel('Дата привлечения')\n",
    "    plt.title('Динамика LTV пользователей на {}-й день'.format(horizon))\n",
    "\n",
    "    # динамика cac\n",
    "    ax3 = plt.subplot(2, 3, 3, sharey=ax1)\n",
    "    # столбцами сводной таблицы станут все столбцы индекса, кроме даты\n",
    "    columns = [name for name in cac_history.index.names if name not in ['dt']]\n",
    "    filtered_data = cac_history.pivot_table(\n",
    "        index='dt', columns=columns, values='cac', aggfunc='mean'\n",
    "    )\n",
    "    filter_data(filtered_data, window).plot(grid=True, ax=ax3)\n",
    "    plt.xlabel('Дата привлечения')\n",
    "    plt.title('Динамика стоимости привлечения пользователей')\n",
    "\n",
    "    # кривые roi\n",
    "    ax4 = plt.subplot(2, 3, 4)\n",
    "    roi.T.plot(grid=True, ax=ax4)\n",
    "    plt.axhline(y=1, color='red', linestyle='--', label='Уровень окупаемости')\n",
    "    plt.legend()\n",
    "    plt.xlabel('Лайфтайм')\n",
    "    plt.title('ROI')\n",
    "\n",
    "    # динамика roi\n",
    "    ax5 = plt.subplot(2, 3, 5, sharey=ax4)\n",
    "    # столбцами сводной таблицы станут все столбцы индекса, кроме даты\n",
    "    columns = [name for name in roi_history.index.names if name not in ['dt']]\n",
    "    filtered_data = roi_history.pivot_table(\n",
    "        index='dt', columns=columns, values=horizon - 1, aggfunc='mean'\n",
    "    )\n",
    "    filter_data(filtered_data, window).plot(grid=True, ax=ax5)\n",
    "    plt.axhline(y=1, color='red', linestyle='--', label='Уровень окупаемости')\n",
    "    plt.xlabel('Дата привлечения')\n",
    "    plt.title('Динамика ROI пользователей на {}-й день'.format(horizon))\n",
    "\n",
    "    plt.tight_layout()\n",
    "    plt.show() "
   ]
  },
  {
   "cell_type": "code",
   "execution_count": null,
   "id": "f2946223",
   "metadata": {},
   "outputs": [],
   "source": [
    "# считаем LTV и ROI\n",
    "ltv_raw, ltv_grouped, ltv_history, roi_grouped, roi_history = get_ltv(\n",
    "    profiles, order, observation_date, horizon_days\n",
    ")\n",
    "\n",
    "# строим графики\n",
    "plot_ltv_roi(ltv_grouped, ltv_history, roi_grouped, roi_history, horizon_days) "
   ]
  },
  {
   "cell_type": "markdown",
   "id": "16d9b8c6",
   "metadata": {},
   "source": [
    "Вывод по графикам общей окупаемости рекламы:\n",
    "- LTV держится на примерно одном уровне на протяжении всего эксперимента\n",
    "- CAC на протяжении всего эксперимента растёт\n",
    "- ROI не доходит до уровня окупаемости.\n",
    "- Пользователи перестают окупаться уже в июне"
   ]
  },
  {
   "cell_type": "markdown",
   "id": "72e8cc07",
   "metadata": {},
   "source": [
    "5.3. Проанализируйте окупаемость рекламы с разбивкой по странам. Постройте графики LTV и ROI, а также графики динамики LTV, CAC и ROI."
   ]
  },
  {
   "cell_type": "code",
   "execution_count": null,
   "id": "55fd8a85",
   "metadata": {},
   "outputs": [],
   "source": [
    "# смотрим окупаемость с разбивкой по странам\n",
    "\n",
    "dimensions = ['region']\n",
    "\n",
    "ltv_raw, ltv_grouped, ltv_history, roi_grouped, roi_history = get_ltv(\n",
    "    profiles, order, observation_date, horizon_days, dimensions=dimensions\n",
    ")\n",
    "\n",
    "plot_ltv_roi(\n",
    "    ltv_grouped, ltv_history, roi_grouped, roi_history, horizon_days, window=14\n",
    ") "
   ]
  },
  {
   "cell_type": "markdown",
   "id": "38e8c0d9",
   "metadata": {},
   "source": [
    "Вывод с разбивкой по странам:\n",
    "- LTV пользователей из США самый высокий, но затраты на рекламу не окупаются."
   ]
  },
  {
   "cell_type": "markdown",
   "id": "7c5d50b5",
   "metadata": {},
   "source": [
    "5.2. Проанализируйте окупаемость рекламы с разбивкой по рекламным каналам. Постройте графики LTV и ROI, а также графики динамики LTV, CAC и ROI."
   ]
  },
  {
   "cell_type": "code",
   "execution_count": 13,
   "id": "0a4f4bd0",
   "metadata": {},
   "outputs": [
    {
     "ename": "NameError",
     "evalue": "name 'profiles' is not defined",
     "output_type": "error",
     "traceback": [
      "\u001b[1;31m---------------------------------------------------------------------------\u001b[0m",
      "\u001b[1;31mNameError\u001b[0m                                 Traceback (most recent call last)",
      "Cell \u001b[1;32mIn[13], line 6\u001b[0m\n\u001b[0;32m      1\u001b[0m \u001b[38;5;66;03m# смотрим окупаемость с разбивкой по каналам\u001b[39;00m\n\u001b[0;32m      3\u001b[0m dimensions \u001b[38;5;241m=\u001b[39m [\u001b[38;5;124m'\u001b[39m\u001b[38;5;124mchannel\u001b[39m\u001b[38;5;124m'\u001b[39m]\n\u001b[0;32m      5\u001b[0m ltv_raw, ltv_grouped, ltv_history, roi_grouped, roi_history \u001b[38;5;241m=\u001b[39m get_ltv(\n\u001b[1;32m----> 6\u001b[0m     profiles, order, observation_date, horizon_days, dimensions\u001b[38;5;241m=\u001b[39mdimensions\n\u001b[0;32m      7\u001b[0m )\n\u001b[0;32m      9\u001b[0m plot_ltv_roi(\n\u001b[0;32m     10\u001b[0m     ltv_grouped, ltv_history, roi_grouped, roi_history, horizon_days, window\u001b[38;5;241m=\u001b[39m\u001b[38;5;241m14\u001b[39m\n\u001b[0;32m     11\u001b[0m )\n",
      "\u001b[1;31mNameError\u001b[0m: name 'profiles' is not defined"
     ]
    }
   ],
   "source": [
    "# смотрим окупаемость с разбивкой по каналам\n",
    "\n",
    "dimensions = ['channel']\n",
    "\n",
    "ltv_raw, ltv_grouped, ltv_history, roi_grouped, roi_history = get_ltv(\n",
    "    profiles, order, observation_date, horizon_days, dimensions=dimensions\n",
    ")\n",
    "\n",
    "plot_ltv_roi(\n",
    "    ltv_grouped, ltv_history, roi_grouped, roi_history, horizon_days, window=14\n",
    ") "
   ]
  },
  {
   "cell_type": "markdown",
   "id": "fb93556d",
   "metadata": {},
   "source": [
    "Вывод по графикам с разбивкой по каналам:\n",
    "- LTV на каналах существенно различается\n",
    "- динамика стоимости привлечения пользователей растёт только у TipTop\n",
    "- Не окупаются к концу 2 недели пользователи из каналов: TipTop, FaceBoom, AdNonSense"
   ]
  },
  {
   "cell_type": "markdown",
   "id": "76c7f2c8",
   "metadata": {},
   "source": [
    "5.4. Постройте и изучите графики конверсии и удержания с разбивкой по устройствам, странам, рекламным каналам."
   ]
  },
  {
   "cell_type": "code",
   "execution_count": null,
   "id": "0adb8f34",
   "metadata": {},
   "outputs": [],
   "source": [
    "def plot_conversion(conversion, conversion_history, horizon, window=7):\n",
    "\n",
    "    # задаём размер сетки для графиков\n",
    "    plt.figure(figsize=(15, 5))\n",
    "\n",
    "    # исключаем размеры когорт\n",
    "    conversion = conversion.drop(columns=['cohort_size'])\n",
    "    # в таблице динамики оставляем только нужный лайфтайм\n",
    "    conversion_history = conversion_history.drop(columns=['cohort_size'])[\n",
    "        [horizon - 1]\n",
    "    ]\n",
    "\n",
    "    # первый график — кривые конверсии\n",
    "    ax1 = plt.subplot(1, 2, 1)\n",
    "    conversion.T.plot(grid=True, ax=ax1)\n",
    "    plt.legend()\n",
    "    plt.xlabel('Лайфтайм')\n",
    "    plt.title('Конверсия пользователей')\n",
    "\n",
    "    # второй график — динамика конверсии\n",
    "    ax2 = plt.subplot(1, 2, 2, sharey=ax1)\n",
    "    columns = [\n",
    "        # столбцами сводной таблицы станут все столбцы индекса, кроме даты\n",
    "        name for name in conversion_history.index.names if name not in ['dt']\n",
    "    ]\n",
    "    filtered_data = conversion_history.pivot_table(\n",
    "        index='dt', columns=columns, values=horizon - 1, aggfunc='mean'\n",
    "    )\n",
    "    filter_data(filtered_data, window).plot(grid=True, ax=ax2)\n",
    "    plt.xlabel('Дата привлечения')\n",
    "    plt.title('Динамика конверсии пользователей'.format(horizon))\n",
    "\n",
    "    plt.tight_layout()\n",
    "    plt.show() "
   ]
  },
  {
   "cell_type": "code",
   "execution_count": null,
   "id": "d1643cef",
   "metadata": {},
   "outputs": [],
   "source": [
    "dimensions = ['device']\n",
    "# смотрим конверсию с разбивкой по устройствам\n",
    "\n",
    "conversion_raw, conversion_grouped, conversion_history = get_conversion(\n",
    "    profiles, order, observation_date, horizon_days, dimensions=dimensions\n",
    ")\n",
    "\n",
    "plot_conversion(conversion_grouped, conversion_history, horizon_days)"
   ]
  },
  {
   "cell_type": "markdown",
   "id": "2fbd6a65",
   "metadata": {},
   "source": [
    "Вывод:\n",
    "Большие просадки по конверсии у пользователей PC и Android"
   ]
  },
  {
   "cell_type": "code",
   "execution_count": null,
   "id": "2e973d96",
   "metadata": {},
   "outputs": [],
   "source": [
    "dimensions = ['region']\n",
    "# смотрим конверсию с разбивкой по странам\n",
    "\n",
    "conversion_raw, conversion_grouped, conversion_history = get_conversion(\n",
    "    profiles, order, observation_date, horizon_days, dimensions=dimensions\n",
    ")\n",
    "\n",
    "plot_conversion(conversion_grouped, conversion_history, horizon_days)"
   ]
  },
  {
   "cell_type": "markdown",
   "id": "835db910",
   "metadata": {},
   "source": [
    "Вывод:\n",
    "конверсия пользователей из США в 2 раза выше чем у пользователей из других стран"
   ]
  },
  {
   "cell_type": "code",
   "execution_count": null,
   "id": "b5c328dc",
   "metadata": {},
   "outputs": [],
   "source": [
    "imensions = ['channel']\n",
    "# смотрим конверсию с разбивкой по каналам\n",
    "\n",
    "conversion_raw, conversion_grouped, conversion_history = get_conversion(\n",
    "    profiles, order, observation_date, horizon_days, dimensions=dimensions\n",
    ")\n",
    "\n",
    "plot_conversion(conversion_grouped, conversion_history, horizon_days)"
   ]
  },
  {
   "cell_type": "markdown",
   "id": "657be3e8",
   "metadata": {},
   "source": [
    "Вывод:\n",
    "в конверсии пользователей из разных каналов наблюдается сезонность"
   ]
  },
  {
   "cell_type": "code",
   "execution_count": null,
   "id": "04e28134",
   "metadata": {},
   "outputs": [],
   "source": [
    "def plot_retention(retention, retention_history, horizon, window=7):\n",
    "\n",
    "    # задаём размер сетки для графиков\n",
    "    plt.figure(figsize=(15, 10))\n",
    "\n",
    "    # исключаем размеры когорт и удержание первого дня\n",
    "    retention = retention.drop(columns=['cohort_size', 0])\n",
    "    # в таблице динамики оставляем только нужный лайфтайм\n",
    "    retention_history = retention_history.drop(columns=['cohort_size'])[\n",
    "        [horizon - 1]\n",
    "    ]\n",
    "\n",
    "    # если в индексах таблицы удержания только payer,\n",
    "    # добавляем второй признак — cohort\n",
    "    if retention.index.nlevels == 1:\n",
    "        retention['cohort'] = 'All users'\n",
    "        retention = retention.reset_index().set_index(['cohort', 'payer'])\n",
    "\n",
    "    # в таблице графиков — два столбца и две строки, четыре ячейки\n",
    "    # в первой строим кривые удержания платящих пользователей\n",
    "    ax1 = plt.subplot(2, 2, 1)\n",
    "    retention.query('payer == True').droplevel('payer').T.plot(\n",
    "        grid=True, ax=ax1\n",
    "    )\n",
    "    plt.legend()\n",
    "    plt.xlabel('Лайфтайм')\n",
    "    plt.title('Удержание платящих пользователей')\n",
    "\n",
    "    # во второй ячейке строим кривые удержания неплатящих\n",
    "    # вертикальная ось — от графика из первой ячейки\n",
    "    ax2 = plt.subplot(2, 2, 2, sharey=ax1)\n",
    "    retention.query('payer == False').droplevel('payer').T.plot(\n",
    "        grid=True, ax=ax2\n",
    "    )\n",
    "    plt.legend()\n",
    "    plt.xlabel('Лайфтайм')\n",
    "    plt.title('Удержание неплатящих пользователей')\n",
    "\n",
    "    # в третьей ячейке — динамика удержания платящих\n",
    "    ax3 = plt.subplot(2, 2, 3)\n",
    "    # получаем названия столбцов для сводной таблицы\n",
    "    columns = [\n",
    "        name\n",
    "        for name in retention_history.index.names\n",
    "        if name not in ['dt', 'payer']\n",
    "    ]\n",
    "    # фильтруем данные и строим график\n",
    "    filtered_data = retention_history.query('payer == True').pivot_table(\n",
    "        index='dt', columns=columns, values=horizon - 1, aggfunc='mean'\n",
    "    )\n",
    "    filter_data(filtered_data, window).plot(grid=True, ax=ax3)\n",
    "    plt.xlabel('Дата привлечения')\n",
    "    plt.title(\n",
    "        'Динамика удержания платящих пользователей'.format(\n",
    "            horizon\n",
    "        )\n",
    "    )\n",
    "\n",
    "    # в чётвертой ячейке — динамика удержания неплатящих\n",
    "    ax4 = plt.subplot(2, 2, 4, sharey=ax3)\n",
    "    # фильтруем данные и строим график\n",
    "    filtered_data = retention_history.query('payer == False').pivot_table(\n",
    "        index='dt', columns=columns, values=horizon - 1, aggfunc='mean'\n",
    "    )\n",
    "    filter_data(filtered_data, window).plot(grid=True, ax=ax4)\n",
    "    plt.xlabel('Дата привлечения')\n",
    "    plt.title(\n",
    "        'Динамика удержания неплатящих пользователей'.format(\n",
    "            horizon\n",
    "        )\n",
    "    )\n",
    "    \n",
    "    plt.tight_layout()\n",
    "    plt.show() "
   ]
  },
  {
   "cell_type": "code",
   "execution_count": null,
   "id": "ef3935ac",
   "metadata": {},
   "outputs": [],
   "source": [
    "# смотрим удержание с разбивкой по устройствам\n",
    "dimensions = ['device']\n",
    "\n",
    "retention_raw, retention_grouped, retention_history = get_retention(\n",
    "    profiles, visit, observation_date, horizon_days, dimensions=dimensions\n",
    ")\n",
    "\n",
    "plot_retention(retention_grouped, retention_history, horizon_days) "
   ]
  },
  {
   "cell_type": "markdown",
   "id": "8765a5b0",
   "metadata": {},
   "source": [
    "Вывод:\n",
    "Динамика удержания неплатящих пользователей примерно одинаковая."
   ]
  },
  {
   "cell_type": "code",
   "execution_count": null,
   "id": "bbc7b825",
   "metadata": {},
   "outputs": [],
   "source": [
    "# смотрим удержание с разбивкой по странам\n",
    "dimensions = ['region']\n",
    "\n",
    "retention_raw, retention_grouped, retention_history = get_retention(\n",
    "    profiles, visit, observation_date, horizon_days, dimensions=dimensions\n",
    ")\n",
    "\n",
    "plot_retention(retention_grouped, retention_history, horizon_days) "
   ]
  },
  {
   "cell_type": "markdown",
   "id": "54f98e89",
   "metadata": {},
   "source": [
    "Вывод:\n",
    "Удержание платящих пользователей из США самое низкое."
   ]
  },
  {
   "cell_type": "code",
   "execution_count": null,
   "id": "fed2b5ab",
   "metadata": {},
   "outputs": [],
   "source": [
    "# смотрим удержание с разбивкой по каналам\n",
    "dimensions = ['channel']\n",
    "\n",
    "retention_raw, retention_grouped, retention_history = get_retention(\n",
    "    profiles, visit, observation_date, horizon_days, dimensions=dimensions\n",
    ")\n",
    "\n",
    "plot_retention(retention_grouped, retention_history, horizon_days) "
   ]
  },
  {
   "cell_type": "markdown",
   "id": "f6749c0f",
   "metadata": {},
   "source": [
    "Вывод:\n",
    "Удержание платящих пользователей из каналов AdNonSense,FaceBoom самое низкое"
   ]
  },
  {
   "cell_type": "markdown",
   "id": "87198ec5",
   "metadata": {},
   "source": [
    "Ответьте на такие вопросы:\n",
    "Окупается ли реклама в целом?\n",
    "\n",
    "Какие устройства, страны и каналы могут снижать окупаемость рекламы?\n",
    "\n",
    "Чем могут быть вызваны проблемы окупаемости?\n",
    "\n",
    "пишите возможные причины обнаруженных проблем и промежуточные рекомендации для рекламного отдела.\n",
    "\n",
    "1. Реклама не окупается к концу второй недели.\n",
    "\n",
    "2. Из стран USA снижает окупаемость рекламы. Из каналов: TipTop, FaceBoom, AdNonSense. Хуже всего удерживаются платящие пользователи устройств IPhone и MAC\n",
    "\n",
    "3. Проблемы с окупаемостью вызваны неправильным распределением средств на привлечение с каналов\n",
    "\n",
    "4. TipTop самый невыгодный канал для привлечения, с которого большинство пользователей из страны USA. Также стоит обратить внимание на каналы откуда привлекаются платящие пользователи PC, потому что они удерживаются лучше всего"
   ]
  },
  {
   "cell_type": "markdown",
   "id": "a21367a6",
   "metadata": {},
   "source": [
    "Шаг 6. Напишите выводы\n",
    "6.1. Выделите причины неэффективности привлечения пользователей.\n",
    "\n",
    "3 канала инвестиции с которых не окупились: AdNonSense, FaceBoom, TipTop Основными пользователями с этих каналов являются жители США. Также удержание платящих пользователей из США оказалось хуже всех. ROI по странам в динамике показал, что с каждым месяцем привлеченные платящие пользователи из США всё хуже окупались, но динамика стоимости привлечения этих пользователей только наращивалась.\n",
    "\n",
    "Возможные причины, связанные с проблемой рекламы в США:\n",
    "\n",
    "Летом 2019 произошло какое-то событие в США, которое кардинально повлияло на поведение пользователей\n",
    "пользователи Mac и IPhone оказались самыми неплатящими, возможно есть проблема с оптимизацией приложения Procrastinate Pro+ для ios устройств\n",
    "рекламная система TipTop оказалась неэффективной. Не стоило много вкладывать в этот канал. Можно предположить, что в этой соц сети не сидят жители США, а используют жители других стран, которые подключены к VPN.\n",
    "Необоснованное увеличение CAC в канале TipTop\n",
    "\n",
    "Конверсия пользователей FaceBoom была самой высокой, но удержание платящих пользователей было самое низкое. Можно ометить, что этот канал для привлечения работал хорошо, но качество платного контента не устраивало пользователей, поэтому не стоит этот канал списывать со счетов.\n",
    "\n",
    "6.2. Сформулируйте рекомендации для отдела маркетинга.\n",
    "\n",
    "Нужно искать новые каналы для привлечения пользователей из стран: UK и Germany\n",
    "Привлекать больше PC и Android пользователей.\n",
    "Стоит обратить внимание на 3 недооценённых канала с наивысшим ROI: Yrabbit, MediaTornado, lambdaMediaAds\n",
    "Платящие PC пользователи удерживаются очень хорошо, но конверсия самая низкая. Потенциал есть, нужно обратить внимание на саму рекламу\n",
    "Самый высокий LTV у канала lambdaMediaAds. Платящим пользователям явно нравится продукт, можно попробовать найти подешевле канал привлечения для этих пользователей, чтобы увеличить ROI"
   ]
  },
  {
   "cell_type": "code",
   "execution_count": null,
   "id": "80663b44",
   "metadata": {},
   "outputs": [],
   "source": []
  }
 ],
 "metadata": {
  "kernelspec": {
   "display_name": "Python 3 (ipykernel)",
   "language": "python",
   "name": "python3"
  },
  "language_info": {
   "codemirror_mode": {
    "name": "ipython",
    "version": 3
   },
   "file_extension": ".py",
   "mimetype": "text/x-python",
   "name": "python",
   "nbconvert_exporter": "python",
   "pygments_lexer": "ipython3",
   "version": "3.11.5"
  }
 },
 "nbformat": 4,
 "nbformat_minor": 5
}
